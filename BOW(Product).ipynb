{
 "cells": [
  {
   "cell_type": "code",
   "execution_count": 5,
   "id": "77d3fc58",
   "metadata": {},
   "outputs": [],
   "source": [
    "import energyusage"
   ]
  },
  {
   "cell_type": "code",
   "execution_count": 11,
   "id": "21d13e84",
   "metadata": {},
   "outputs": [
    {
     "name": "stdout",
     "output_type": "stream",
     "text": [
      "Location:                                                                Florida\n"
     ]
    },
    {
     "ename": "PermissionError",
     "evalue": "[Errno 13] Permission denied: '/sys/class/powercap/intel-rapl:0:2/energy_uj'",
     "output_type": "error",
     "traceback": [
      "\u001b[0;31m---------------------------------------------------------------------------\u001b[0m",
      "\u001b[0;31mPermissionError\u001b[0m                           Traceback (most recent call last)",
      "Cell \u001b[0;32mIn [11], line 10\u001b[0m\n\u001b[1;32m      7\u001b[0m     rmse \u001b[38;5;241m=\u001b[39m mean_squared_error(y_test, y_pred)\n\u001b[1;32m      8\u001b[0m     \u001b[38;5;28mprint\u001b[39m(\u001b[38;5;124m\"\u001b[39m\u001b[38;5;124mAccuracy:\u001b[39m\u001b[38;5;124m\"\u001b[39m, accuracy)\n\u001b[0;32m---> 10\u001b[0m \u001b[43menergyusage\u001b[49m\u001b[38;5;241;43m.\u001b[39;49m\u001b[43mevaluate\u001b[49m\u001b[43m(\u001b[49m\u001b[43mrecursive_fib\u001b[49m\u001b[43m,\u001b[49m\u001b[43m \u001b[49m\u001b[38;5;241;43m40\u001b[39;49m\u001b[43m,\u001b[49m\u001b[43m \u001b[49m\u001b[43mpdf\u001b[49m\u001b[38;5;241;43m=\u001b[39;49m\u001b[38;5;28;43;01mTrue\u001b[39;49;00m\u001b[43m)\u001b[49m\n",
      "File \u001b[0;32m~/.local/lib/python3.8/site-packages/energyusage/evaluate.py:313\u001b[0m, in \u001b[0;36mevaluate\u001b[0;34m(user_func, pdf, powerLoss, energyOutput, locations, year, printToScreen, *args)\u001b[0m\n\u001b[1;32m    311\u001b[0m \u001b[38;5;28;01mif\u001b[39;00m (utils\u001b[38;5;241m.\u001b[39mvalid_cpu() \u001b[38;5;129;01mor\u001b[39;00m utils\u001b[38;5;241m.\u001b[39mvalid_gpu()):\n\u001b[1;32m    312\u001b[0m     location \u001b[38;5;241m=\u001b[39m locate\u001b[38;5;241m.\u001b[39mget(printToScreen)\n\u001b[0;32m--> 313\u001b[0m     result, return_value, watt_averages, files, total_time \u001b[38;5;241m=\u001b[39m \u001b[43menergy\u001b[49m\u001b[43m(\u001b[49m\u001b[43muser_func\u001b[49m\u001b[43m,\u001b[49m\u001b[43m \u001b[49m\u001b[38;5;241;43m*\u001b[39;49m\u001b[43margs\u001b[49m\u001b[43m,\u001b[49m\u001b[43m \u001b[49m\u001b[43mpowerLoss\u001b[49m\u001b[43m \u001b[49m\u001b[38;5;241;43m=\u001b[39;49m\u001b[43m \u001b[49m\u001b[43mpowerLoss\u001b[49m\u001b[43m,\u001b[49m\u001b[43m \u001b[49m\u001b[43myear\u001b[49m\u001b[43m \u001b[49m\u001b[38;5;241;43m=\u001b[39;49m\u001b[43m \u001b[49m\u001b[43myear\u001b[49m\u001b[43m,\u001b[49m\u001b[43m \u001b[49m\u001b[43m\\\u001b[49m\n\u001b[1;32m    314\u001b[0m \u001b[43m                                                        \u001b[49m\u001b[43mprintToScreen\u001b[49m\u001b[43m \u001b[49m\u001b[38;5;241;43m=\u001b[39;49m\u001b[43m \u001b[49m\u001b[43mprintToScreen\u001b[49m\u001b[43m)\u001b[49m\n\u001b[1;32m    315\u001b[0m     default_location \u001b[38;5;241m=\u001b[39m \u001b[38;5;28;01mFalse\u001b[39;00m\n\u001b[1;32m    316\u001b[0m     \u001b[38;5;28;01mif\u001b[39;00m locations \u001b[38;5;241m==\u001b[39m [\u001b[38;5;124m\"\u001b[39m\u001b[38;5;124mMongolia\u001b[39m\u001b[38;5;124m\"\u001b[39m, \u001b[38;5;124m\"\u001b[39m\u001b[38;5;124mIceland\u001b[39m\u001b[38;5;124m\"\u001b[39m, \u001b[38;5;124m\"\u001b[39m\u001b[38;5;124mSwitzerland\u001b[39m\u001b[38;5;124m\"\u001b[39m]:\n",
      "File \u001b[0;32m~/.local/lib/python3.8/site-packages/energyusage/evaluate.py:52\u001b[0m, in \u001b[0;36menergy\u001b[0;34m(user_func, powerLoss, year, printToScreen, *args)\u001b[0m\n\u001b[1;32m     50\u001b[0m     gpu_baseline\u001b[38;5;241m.\u001b[39mappend(output)\n\u001b[1;32m     51\u001b[0m \u001b[38;5;28;01mif\u001b[39;00m is_valid_cpu:\n\u001b[0;32m---> 52\u001b[0m     files \u001b[38;5;241m=\u001b[39m \u001b[43mutils\u001b[49m\u001b[38;5;241;43m.\u001b[39;49m\u001b[43mmeasure_files\u001b[49m\u001b[43m(\u001b[49m\u001b[43mfiles\u001b[49m\u001b[43m,\u001b[49m\u001b[43m \u001b[49m\u001b[43mDELAY\u001b[49m\u001b[43m)\u001b[49m\n\u001b[1;32m     53\u001b[0m     files \u001b[38;5;241m=\u001b[39m utils\u001b[38;5;241m.\u001b[39mupdate_files(files)\n\u001b[1;32m     54\u001b[0m \u001b[38;5;28;01melse\u001b[39;00m:\n",
      "File \u001b[0;32m~/.local/lib/python3.8/site-packages/energyusage/utils.py:117\u001b[0m, in \u001b[0;36mmeasure_files\u001b[0;34m(files, delay)\u001b[0m\n\u001b[1;32m    106\u001b[0m \u001b[38;5;28;01mdef\u001b[39;00m \u001b[38;5;21mmeasure_files\u001b[39m(files, delay \u001b[38;5;241m=\u001b[39m \u001b[38;5;241m1\u001b[39m):\n\u001b[1;32m    107\u001b[0m     \u001b[38;5;124;03m\"\"\" Measures the energy output of all packages which should give total power usage\u001b[39;00m\n\u001b[1;32m    108\u001b[0m \n\u001b[1;32m    109\u001b[0m \u001b[38;5;124;03m    Parameters:\u001b[39;00m\n\u001b[0;32m   (...)\u001b[0m\n\u001b[1;32m    114\u001b[0m \u001b[38;5;124;03m        files (list): list of RAPLfiles with updated measurements\u001b[39;00m\n\u001b[1;32m    115\u001b[0m \u001b[38;5;124;03m    \"\"\"\u001b[39;00m\n\u001b[0;32m--> 117\u001b[0m     files \u001b[38;5;241m=\u001b[39m \u001b[38;5;28;43mlist\u001b[39;49m\u001b[43m(\u001b[49m\u001b[38;5;28;43mmap\u001b[39;49m\u001b[43m(\u001b[49m\u001b[43mstart\u001b[49m\u001b[43m,\u001b[49m\u001b[43m \u001b[49m\u001b[43mfiles\u001b[49m\u001b[43m)\u001b[49m\u001b[43m)\u001b[49m\n\u001b[1;32m    118\u001b[0m     time\u001b[38;5;241m.\u001b[39msleep(delay)\n\u001b[1;32m    119\u001b[0m     files \u001b[38;5;241m=\u001b[39m \u001b[38;5;28mlist\u001b[39m(\u001b[38;5;28mmap\u001b[39m(\u001b[38;5;28;01mlambda\u001b[39;00m x: end(x, delay), files)) \u001b[38;5;66;03m# need lambda to pass in delay\u001b[39;00m\n",
      "File \u001b[0;32m~/.local/lib/python3.8/site-packages/energyusage/utils.py:97\u001b[0m, in \u001b[0;36mstart\u001b[0;34m(raplfile)\u001b[0m\n\u001b[1;32m     96\u001b[0m \u001b[38;5;28;01mdef\u001b[39;00m \u001b[38;5;21mstart\u001b[39m(raplfile):\n\u001b[0;32m---> 97\u001b[0m     measurement \u001b[38;5;241m=\u001b[39m \u001b[43mread\u001b[49m\u001b[43m(\u001b[49m\u001b[43mraplfile\u001b[49m\u001b[38;5;241;43m.\u001b[39;49m\u001b[43mpath\u001b[49m\u001b[43m)\u001b[49m\n\u001b[1;32m     98\u001b[0m     raplfile\u001b[38;5;241m.\u001b[39mrecent \u001b[38;5;241m=\u001b[39m measurement\n\u001b[1;32m     99\u001b[0m     \u001b[38;5;28;01mreturn\u001b[39;00m raplfile\n",
      "File \u001b[0;32m~/.local/lib/python3.8/site-packages/energyusage/utils.py:27\u001b[0m, in \u001b[0;36mread\u001b[0;34m(file)\u001b[0m\n\u001b[1;32m     25\u001b[0m     \u001b[38;5;28;01mreturn\u001b[39;00m \u001b[38;5;241m0\u001b[39m\n\u001b[1;32m     26\u001b[0m \u001b[38;5;28;01melse\u001b[39;00m:\n\u001b[0;32m---> 27\u001b[0m     \u001b[38;5;28;01mwith\u001b[39;00m \u001b[38;5;28;43mopen\u001b[39;49m\u001b[43m(\u001b[49m\u001b[43mfile\u001b[49m\u001b[43m,\u001b[49m\u001b[43m \u001b[49m\u001b[38;5;124;43m'\u001b[39;49m\u001b[38;5;124;43mr\u001b[39;49m\u001b[38;5;124;43m'\u001b[39;49m\u001b[43m)\u001b[49m \u001b[38;5;28;01mas\u001b[39;00m f:\n\u001b[1;32m     28\u001b[0m         \u001b[38;5;28;01mreturn\u001b[39;00m convert\u001b[38;5;241m.\u001b[39mto_joules(\u001b[38;5;28mint\u001b[39m(f\u001b[38;5;241m.\u001b[39mread()))\n",
      "\u001b[0;31mPermissionError\u001b[0m: [Errno 13] Permission denied: '/sys/class/powercap/intel-rapl:0:2/energy_uj'"
     ]
    }
   ],
   "source": [
    "# user function to be evaluated\n",
    "def recursive_fib():\n",
    "    clf = AdaBoostClassifier()\n",
    "    clf.fit(X_train, y_train)\n",
    "    y_pred = clf.predict(X_test)\n",
    "    accuracy = accuracy_score(y_test, y_pred)\n",
    "    rmse = mean_squared_error(y_test, y_pred)\n",
    "    print(\"Accuracy:\", accuracy)\n",
    "\n",
    "energyusage.evaluate(recursive_fib, 40, pdf=True)"
   ]
  },
  {
   "cell_type": "code",
   "execution_count": null,
   "id": "e75ea02c",
   "metadata": {},
   "outputs": [],
   "source": []
  },
  {
   "cell_type": "code",
   "execution_count": null,
   "id": "93a3733c",
   "metadata": {},
   "outputs": [],
   "source": []
  },
  {
   "cell_type": "code",
   "execution_count": 1,
   "id": "f27fda4e",
   "metadata": {},
   "outputs": [],
   "source": [
    "import pandas as pd\n",
    "import numpy as np\n",
    "from sklearn.pipeline import Pipeline\n",
    "from sklearn.feature_extraction.text import CountVectorizer\n",
    "from sklearn.naive_bayes import MultinomialNB,GaussianNB,BernoulliNB\n",
    "from sklearn.feature_extraction.text import TfidfTransformer\n",
    "from sklearn.svm import LinearSVC\n",
    "from sklearn.feature_extraction.text import TfidfVectorizer\n",
    "from sklearn.ensemble import RandomForestClassifier\n",
    "from sklearn.linear_model import LogisticRegression\n",
    "from sklearn.metrics import classification_report, confusion_matrix\n",
    "from sklearn.metrics import accuracy_score\n",
    "from sklearn import metrics\n",
    "from sklearn.ensemble import VotingClassifier\n",
    "from sklearn.ensemble import BaggingClassifier\n",
    "from sklearn.ensemble import AdaBoostClassifier, RandomForestClassifier, ExtraTreesClassifier\n",
    "from sklearn.metrics import accuracy_score, mean_squared_error\n",
    "from sklearn.tree import DecisionTreeClassifier\n",
    "from sklearn.model_selection import train_test_split, KFold, cross_val_score\n",
    "from sklearn.svm import SVC\n",
    "from math import sqrt\n",
    "import time\n",
    "import tracemalloc\n",
    "import xgboost as xgb"
   ]
  },
  {
   "cell_type": "code",
   "execution_count": 2,
   "id": "9cfdcfaa",
   "metadata": {},
   "outputs": [],
   "source": [
    "df=pd.read_csv('GrammarandProductReviews[modified].csv')"
   ]
  },
  {
   "cell_type": "code",
   "execution_count": 3,
   "id": "b44b2712",
   "metadata": {},
   "outputs": [],
   "source": [
    "cv = CountVectorizer()\n",
    "cv.fit(df['review'])\n",
    "X = cv.transform(df['review'])"
   ]
  },
  {
   "cell_type": "code",
   "execution_count": 4,
   "id": "ba74fdba",
   "metadata": {},
   "outputs": [],
   "source": [
    "LogReg_clf = LogisticRegression()\n",
    "SVC_clf = SVC(probability=True, kernel='rbf')\n",
    "NV=MultinomialNB()\n",
    "NK=BernoulliNB()\n",
    "DTree_clf = DecisionTreeClassifier()\n",
    "svm=LinearSVC()\n",
    "rf = RandomForestClassifier(random_state=1200, criterion='entropy', n_estimators=200)\n",
    "#ada = AdaBoostClassifier(n_estimators=200, learning_rate=2.0, algorithm='SAMME')\n",
    "ada = AdaBoostClassifier()\n",
    "ETree = ExtraTreesClassifier(random_state=0)"
   ]
  },
  {
   "cell_type": "code",
   "execution_count": 5,
   "id": "8d63de98",
   "metadata": {},
   "outputs": [],
   "source": [
    "msg_train, msg_test, label_train, label_test =train_test_split(X, df['positive_review'], test_size=0.2,random_state=42)"
   ]
  },
  {
   "cell_type": "code",
   "execution_count": 7,
   "id": "d7557d68",
   "metadata": {},
   "outputs": [
    {
     "name": "stdout",
     "output_type": "stream",
     "text": [
      "Accuracy For NB Model is: 0.8979400749063671\n",
      "RMSE Error is: 0.31946819105136737\n",
      "Execution time: 0.019340991973876953 seconds\n",
      "Current memory usage is 0.37818145751953125 MB; Peak was 0.8618383407592773 MB\n"
     ]
    }
   ],
   "source": [
    "# get the start time\n",
    "st = time.time()\n",
    "tracemalloc.start()\n",
    "\n",
    "\n",
    "NV.fit(msg_train,label_train)\n",
    "preds= NV.predict(msg_test)\n",
    "acc = accuracy_score(label_test, preds)\n",
    "print(\"Accuracy For NB Model is: \" + str(acc))\n",
    "rms= sqrt(mean_squared_error(label_test, preds))\n",
    "print(\"RMSE Error is: \" + str(rms))\n",
    "\n",
    "\n",
    "# get the end time\n",
    "et = time.time()\n",
    "\n",
    "# get the execution time\n",
    "elapsed_time = et - st\n",
    "print('Execution time:', elapsed_time, 'seconds')\n",
    "\n",
    "current, peak = tracemalloc.get_traced_memory()\n",
    "# Stop tracemalloc\n",
    "tracemalloc.stop()\n",
    "#print(f\"Current memory usage is {current / 10**6}MB; Peak was {peak / 10**6}MB\")\n",
    "print(\"Current memory usage is\", current / (1024 * 1024), \"MB; Peak was\", peak / (1024 * 1024), \"MB\")"
   ]
  },
  {
   "cell_type": "code",
   "execution_count": 7,
   "id": "ba91682a",
   "metadata": {},
   "outputs": [
    {
     "name": "stdout",
     "output_type": "stream",
     "text": [
      "Accuracy For Voting Ensemble SVM+AadBoost+RF is: 0.9161985018726592\n",
      "RMSE Error is: 0.28948488410855033\n",
      "Execution time: 64.94330596923828 seconds\n",
      "Current memory usage is 1.525527000427246 MB; Peak was 11.562824249267578 MB\n"
     ]
    }
   ],
   "source": [
    "#Voting Ensemble Method\n",
    "# get the start time\n",
    "st = time.time()\n",
    "tracemalloc.start()\n",
    "\n",
    "\n",
    "\n",
    "#voting_clf = VotingClassifier(estimators=[('LR',model),('NV', ada)], voting='hard')\n",
    "voting_clf = VotingClassifier(estimators=[('svm',SVC_clf ), ('AdaBoost', ada), ('RF',rf )], voting='soft')\n",
    "voting_clf.fit(msg_train, label_train)\n",
    "preds = voting_clf.predict(msg_test)\n",
    "\n",
    "acc = accuracy_score(label_test, preds)\n",
    "rms= sqrt(mean_squared_error(label_test, preds))\n",
    "\n",
    "\n",
    "print(\"Accuracy For Voting Ensemble SVM+AadBoost+RF is: \" + str(acc))\n",
    "print(\"RMSE Error is: \" + str(rms))\n",
    "\n",
    "\n",
    "# get the end time\n",
    "et = time.time()\n",
    "\n",
    "# get the execution time\n",
    "elapsed_time = et - st\n",
    "print('Execution time:', elapsed_time, 'seconds')\n",
    "\n",
    "current, peak = tracemalloc.get_traced_memory()\n",
    "# Stop tracemalloc\n",
    "tracemalloc.stop()\n",
    "print(\"Current memory usage is\", current / (1024 * 1024), \"MB; Peak was\", peak / (1024 * 1024), \"MB\")"
   ]
  },
  {
   "cell_type": "code",
   "execution_count": 8,
   "id": "2af58eb9",
   "metadata": {},
   "outputs": [
    {
     "name": "stdout",
     "output_type": "stream",
     "text": [
      "Accuracy for AdaBoost: 0.87312734082397\n",
      "RMSE: 0.12687265917602997\n",
      "Execution time: 2.937202215194702 seconds\n",
      "Current memory usage is 0.06054115295410156 MB; Peak was 3.302509307861328 MB\n"
     ]
    }
   ],
   "source": [
    "# Boosting Ensemble (Adaboost classifier)\n",
    "\n",
    "# get the start time\n",
    "st = time.time()\n",
    "tracemalloc.start()\n",
    "\n",
    "clf = AdaBoostClassifier()\n",
    "clf.fit(msg_train, label_train)\n",
    "\n",
    "# make predictions on the testing set\n",
    "y_pred = clf.predict(msg_test)\n",
    "\n",
    "# evaluate the model's performance using accuracy and RMSE\n",
    "accuracy = accuracy_score(label_test, y_pred)\n",
    "rmse = mean_squared_error(label_test, y_pred)\n",
    "\n",
    "print(\"Accuracy for AdaBoost:\", accuracy)\n",
    "print(\"RMSE:\", rmse)\n",
    "\n",
    "# get the end time\n",
    "et = time.time()\n",
    "\n",
    "# get the execution time\n",
    "elapsed_time = et - st\n",
    "print('Execution time:', elapsed_time, 'seconds')\n",
    "\n",
    "current, peak = tracemalloc.get_traced_memory()\n",
    "# Stop tracemalloc\n",
    "tracemalloc.stop()\n",
    "print(\"Current memory usage is\", current / (1024 * 1024), \"MB; Peak was\", peak / (1024 * 1024), \"MB\")"
   ]
  },
  {
   "cell_type": "code",
   "execution_count": 9,
   "id": "9418930e",
   "metadata": {},
   "outputs": [
    {
     "name": "stdout",
     "output_type": "stream",
     "text": [
      "Accuracy for XGBoost: 0.9194756554307116\n",
      "Execution time: 0.6898694038391113 seconds\n",
      "Current memory usage is 0.10698986053466797 MB; Peak was 0.18793773651123047 MB\n"
     ]
    }
   ],
   "source": [
    "# Train XGBoost model\n",
    "# get the start time\n",
    "st = time.time()\n",
    "tracemalloc.start()\n",
    "\n",
    "\n",
    "model = xgb.XGBClassifier(n_estimators=70, learning_rate=0.9)\n",
    "model.fit(msg_train, label_train)\n",
    "\n",
    "# Predict on test set and calculate accuracy\n",
    "y_pred = model.predict(msg_test)\n",
    "acc = accuracy_score(label_test, y_pred)\n",
    "print('Accuracy for XGBoost:', acc)\n",
    "\n",
    "# get the end time\n",
    "et = time.time()\n",
    "\n",
    "# get the execution time\n",
    "elapsed_time = et - st\n",
    "print('Execution time:', elapsed_time, 'seconds')\n",
    "\n",
    "current, peak = tracemalloc.get_traced_memory()\n",
    "# Stop tracemalloc\n",
    "tracemalloc.stop()\n",
    "#print(f\"Current memory usage is {current / 10**6}MB; Peak was {peak / 10**6}MB\")\n",
    "print(\"Current memory usage is\", current / (1024 * 1024), \"MB; Peak was\", peak / (1024 * 1024), \"MB\")"
   ]
  },
  {
   "cell_type": "code",
   "execution_count": null,
   "id": "3e485487",
   "metadata": {},
   "outputs": [],
   "source": []
  },
  {
   "cell_type": "code",
   "execution_count": 6,
   "id": "093fb5e9",
   "metadata": {},
   "outputs": [
    {
     "name": "stderr",
     "output_type": "stream",
     "text": [
      "/usr/lib/python3/dist-packages/requests/__init__.py:89: RequestsDependencyWarning: urllib3 (1.26.12) or chardet (3.0.4) doesn't match a supported version!\n",
      "  warnings.warn(\"urllib3 ({}) or chardet ({}) doesn't match a supported \"\n"
     ]
    },
    {
     "name": "stdout",
     "output_type": "stream",
     "text": [
      "Location:                                                                Florida\n"
     ]
    },
    {
     "ename": "PermissionError",
     "evalue": "[Errno 13] Permission denied: '/sys/class/powercap/intel-rapl:0:2/energy_uj'",
     "output_type": "error",
     "traceback": [
      "\u001b[0;31m---------------------------------------------------------------------------\u001b[0m",
      "\u001b[0;31mPermissionError\u001b[0m                           Traceback (most recent call last)",
      "Cell \u001b[0;32mIn [6], line 15\u001b[0m\n\u001b[1;32m     12\u001b[0m         \u001b[38;5;28mprint\u001b[39m(\u001b[38;5;124m\"\u001b[39m\u001b[38;5;124mAccuracy For Voting Ensemble SVM+AadBoost+RF is: \u001b[39m\u001b[38;5;124m\"\u001b[39m \u001b[38;5;241m+\u001b[39m \u001b[38;5;28mstr\u001b[39m(acc))\n\u001b[1;32m     13\u001b[0m         \u001b[38;5;28mprint\u001b[39m(\u001b[38;5;124m\"\u001b[39m\u001b[38;5;124mRMSE Error is: \u001b[39m\u001b[38;5;124m\"\u001b[39m \u001b[38;5;241m+\u001b[39m \u001b[38;5;28mstr\u001b[39m(rms))\n\u001b[0;32m---> 15\u001b[0m \u001b[43menergyusage\u001b[49m\u001b[38;5;241;43m.\u001b[39;49m\u001b[43mevaluate\u001b[49m\u001b[43m(\u001b[49m\u001b[43mrecursive_fib\u001b[49m\u001b[43m,\u001b[49m\u001b[43m \u001b[49m\u001b[38;5;241;43m40\u001b[39;49m\u001b[43m,\u001b[49m\u001b[43m \u001b[49m\u001b[43mpdf\u001b[49m\u001b[38;5;241;43m=\u001b[39;49m\u001b[38;5;28;43;01mTrue\u001b[39;49;00m\u001b[43m)\u001b[49m\n",
      "File \u001b[0;32m~/.local/lib/python3.8/site-packages/energyusage/evaluate.py:313\u001b[0m, in \u001b[0;36mevaluate\u001b[0;34m(user_func, pdf, powerLoss, energyOutput, locations, year, printToScreen, *args)\u001b[0m\n\u001b[1;32m    311\u001b[0m \u001b[38;5;28;01mif\u001b[39;00m (utils\u001b[38;5;241m.\u001b[39mvalid_cpu() \u001b[38;5;129;01mor\u001b[39;00m utils\u001b[38;5;241m.\u001b[39mvalid_gpu()):\n\u001b[1;32m    312\u001b[0m     location \u001b[38;5;241m=\u001b[39m locate\u001b[38;5;241m.\u001b[39mget(printToScreen)\n\u001b[0;32m--> 313\u001b[0m     result, return_value, watt_averages, files, total_time \u001b[38;5;241m=\u001b[39m \u001b[43menergy\u001b[49m\u001b[43m(\u001b[49m\u001b[43muser_func\u001b[49m\u001b[43m,\u001b[49m\u001b[43m \u001b[49m\u001b[38;5;241;43m*\u001b[39;49m\u001b[43margs\u001b[49m\u001b[43m,\u001b[49m\u001b[43m \u001b[49m\u001b[43mpowerLoss\u001b[49m\u001b[43m \u001b[49m\u001b[38;5;241;43m=\u001b[39;49m\u001b[43m \u001b[49m\u001b[43mpowerLoss\u001b[49m\u001b[43m,\u001b[49m\u001b[43m \u001b[49m\u001b[43myear\u001b[49m\u001b[43m \u001b[49m\u001b[38;5;241;43m=\u001b[39;49m\u001b[43m \u001b[49m\u001b[43myear\u001b[49m\u001b[43m,\u001b[49m\u001b[43m \u001b[49m\u001b[43m\\\u001b[49m\n\u001b[1;32m    314\u001b[0m \u001b[43m                                                        \u001b[49m\u001b[43mprintToScreen\u001b[49m\u001b[43m \u001b[49m\u001b[38;5;241;43m=\u001b[39;49m\u001b[43m \u001b[49m\u001b[43mprintToScreen\u001b[49m\u001b[43m)\u001b[49m\n\u001b[1;32m    315\u001b[0m     default_location \u001b[38;5;241m=\u001b[39m \u001b[38;5;28;01mFalse\u001b[39;00m\n\u001b[1;32m    316\u001b[0m     \u001b[38;5;28;01mif\u001b[39;00m locations \u001b[38;5;241m==\u001b[39m [\u001b[38;5;124m\"\u001b[39m\u001b[38;5;124mMongolia\u001b[39m\u001b[38;5;124m\"\u001b[39m, \u001b[38;5;124m\"\u001b[39m\u001b[38;5;124mIceland\u001b[39m\u001b[38;5;124m\"\u001b[39m, \u001b[38;5;124m\"\u001b[39m\u001b[38;5;124mSwitzerland\u001b[39m\u001b[38;5;124m\"\u001b[39m]:\n",
      "File \u001b[0;32m~/.local/lib/python3.8/site-packages/energyusage/evaluate.py:52\u001b[0m, in \u001b[0;36menergy\u001b[0;34m(user_func, powerLoss, year, printToScreen, *args)\u001b[0m\n\u001b[1;32m     50\u001b[0m     gpu_baseline\u001b[38;5;241m.\u001b[39mappend(output)\n\u001b[1;32m     51\u001b[0m \u001b[38;5;28;01mif\u001b[39;00m is_valid_cpu:\n\u001b[0;32m---> 52\u001b[0m     files \u001b[38;5;241m=\u001b[39m \u001b[43mutils\u001b[49m\u001b[38;5;241;43m.\u001b[39;49m\u001b[43mmeasure_files\u001b[49m\u001b[43m(\u001b[49m\u001b[43mfiles\u001b[49m\u001b[43m,\u001b[49m\u001b[43m \u001b[49m\u001b[43mDELAY\u001b[49m\u001b[43m)\u001b[49m\n\u001b[1;32m     53\u001b[0m     files \u001b[38;5;241m=\u001b[39m utils\u001b[38;5;241m.\u001b[39mupdate_files(files)\n\u001b[1;32m     54\u001b[0m \u001b[38;5;28;01melse\u001b[39;00m:\n",
      "File \u001b[0;32m~/.local/lib/python3.8/site-packages/energyusage/utils.py:117\u001b[0m, in \u001b[0;36mmeasure_files\u001b[0;34m(files, delay)\u001b[0m\n\u001b[1;32m    106\u001b[0m \u001b[38;5;28;01mdef\u001b[39;00m \u001b[38;5;21mmeasure_files\u001b[39m(files, delay \u001b[38;5;241m=\u001b[39m \u001b[38;5;241m1\u001b[39m):\n\u001b[1;32m    107\u001b[0m     \u001b[38;5;124;03m\"\"\" Measures the energy output of all packages which should give total power usage\u001b[39;00m\n\u001b[1;32m    108\u001b[0m \n\u001b[1;32m    109\u001b[0m \u001b[38;5;124;03m    Parameters:\u001b[39;00m\n\u001b[0;32m   (...)\u001b[0m\n\u001b[1;32m    114\u001b[0m \u001b[38;5;124;03m        files (list): list of RAPLfiles with updated measurements\u001b[39;00m\n\u001b[1;32m    115\u001b[0m \u001b[38;5;124;03m    \"\"\"\u001b[39;00m\n\u001b[0;32m--> 117\u001b[0m     files \u001b[38;5;241m=\u001b[39m \u001b[38;5;28;43mlist\u001b[39;49m\u001b[43m(\u001b[49m\u001b[38;5;28;43mmap\u001b[39;49m\u001b[43m(\u001b[49m\u001b[43mstart\u001b[49m\u001b[43m,\u001b[49m\u001b[43m \u001b[49m\u001b[43mfiles\u001b[49m\u001b[43m)\u001b[49m\u001b[43m)\u001b[49m\n\u001b[1;32m    118\u001b[0m     time\u001b[38;5;241m.\u001b[39msleep(delay)\n\u001b[1;32m    119\u001b[0m     files \u001b[38;5;241m=\u001b[39m \u001b[38;5;28mlist\u001b[39m(\u001b[38;5;28mmap\u001b[39m(\u001b[38;5;28;01mlambda\u001b[39;00m x: end(x, delay), files)) \u001b[38;5;66;03m# need lambda to pass in delay\u001b[39;00m\n",
      "File \u001b[0;32m~/.local/lib/python3.8/site-packages/energyusage/utils.py:97\u001b[0m, in \u001b[0;36mstart\u001b[0;34m(raplfile)\u001b[0m\n\u001b[1;32m     96\u001b[0m \u001b[38;5;28;01mdef\u001b[39;00m \u001b[38;5;21mstart\u001b[39m(raplfile):\n\u001b[0;32m---> 97\u001b[0m     measurement \u001b[38;5;241m=\u001b[39m \u001b[43mread\u001b[49m\u001b[43m(\u001b[49m\u001b[43mraplfile\u001b[49m\u001b[38;5;241;43m.\u001b[39;49m\u001b[43mpath\u001b[49m\u001b[43m)\u001b[49m\n\u001b[1;32m     98\u001b[0m     raplfile\u001b[38;5;241m.\u001b[39mrecent \u001b[38;5;241m=\u001b[39m measurement\n\u001b[1;32m     99\u001b[0m     \u001b[38;5;28;01mreturn\u001b[39;00m raplfile\n",
      "File \u001b[0;32m~/.local/lib/python3.8/site-packages/energyusage/utils.py:27\u001b[0m, in \u001b[0;36mread\u001b[0;34m(file)\u001b[0m\n\u001b[1;32m     25\u001b[0m     \u001b[38;5;28;01mreturn\u001b[39;00m \u001b[38;5;241m0\u001b[39m\n\u001b[1;32m     26\u001b[0m \u001b[38;5;28;01melse\u001b[39;00m:\n\u001b[0;32m---> 27\u001b[0m     \u001b[38;5;28;01mwith\u001b[39;00m \u001b[38;5;28;43mopen\u001b[39;49m\u001b[43m(\u001b[49m\u001b[43mfile\u001b[49m\u001b[43m,\u001b[49m\u001b[43m \u001b[49m\u001b[38;5;124;43m'\u001b[39;49m\u001b[38;5;124;43mr\u001b[39;49m\u001b[38;5;124;43m'\u001b[39;49m\u001b[43m)\u001b[49m \u001b[38;5;28;01mas\u001b[39;00m f:\n\u001b[1;32m     28\u001b[0m         \u001b[38;5;28;01mreturn\u001b[39;00m convert\u001b[38;5;241m.\u001b[39mto_joules(\u001b[38;5;28mint\u001b[39m(f\u001b[38;5;241m.\u001b[39mread()))\n",
      "\u001b[0;31mPermissionError\u001b[0m: [Errno 13] Permission denied: '/sys/class/powercap/intel-rapl:0:2/energy_uj'"
     ]
    }
   ],
   "source": [
    "import energyusage\n",
    "# user function to be evaluated\n",
    "def recursive_fib():\n",
    "        voting_clf = VotingClassifier(estimators=[('svm',SVC_clf ), ('AdaBoost', ada), ('RF',rf )], voting='soft')\n",
    "        voting_clf.fit(msg_train, label_train)\n",
    "        preds = voting_clf.predict(msg_test)\n",
    "\n",
    "        acc = accuracy_score(label_test, preds)\n",
    "        rms= sqrt(mean_squared_error(label_test, preds))\n",
    "\n",
    "\n",
    "        print(\"Accuracy For Voting Ensemble SVM+AadBoost+RF is: \" + str(acc))\n",
    "        print(\"RMSE Error is: \" + str(rms))\n",
    "\n",
    "energyusage.evaluate(recursive_fib, 40, pdf=True)"
   ]
  },
  {
   "cell_type": "code",
   "execution_count": null,
   "id": "ee82c81c",
   "metadata": {},
   "outputs": [],
   "source": []
  }
 ],
 "metadata": {
  "kernelspec": {
   "display_name": "Python 3 (ipykernel)",
   "language": "python",
   "name": "python3"
  },
  "language_info": {
   "codemirror_mode": {
    "name": "ipython",
    "version": 3
   },
   "file_extension": ".py",
   "mimetype": "text/x-python",
   "name": "python",
   "nbconvert_exporter": "python",
   "pygments_lexer": "ipython3",
   "version": "3.8.10"
  }
 },
 "nbformat": 4,
 "nbformat_minor": 5
}
