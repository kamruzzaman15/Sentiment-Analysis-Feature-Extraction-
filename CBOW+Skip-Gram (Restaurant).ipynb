{
 "cells": [
  {
   "cell_type": "code",
   "execution_count": 2,
   "id": "0a3fe9e7",
   "metadata": {},
   "outputs": [
    {
     "name": "stdout",
     "output_type": "stream",
     "text": [
      "Accuracy For Voting Ensemble SVM+AadBoost+RF is: 0.9432692307692307\n",
      "RMSE Error is: 0.23818221854447746\n",
      "Execution time: 42.666717767715454 seconds\n",
      "Current memory usage is 30.350130081176758 MB; Peak was 41.96127891540527 MB\n"
     ]
    }
   ],
   "source": [
    "import pandas as pd\n",
    "import numpy as np\n",
    "from gensim.models import Word2Vec\n",
    "from sklearn.ensemble import RandomForestClassifier\n",
    "from sklearn.linear_model import LogisticRegression\n",
    "from sklearn.metrics import classification_report, confusion_matrix\n",
    "from sklearn.metrics import accuracy_score\n",
    "from sklearn import metrics\n",
    "from sklearn.ensemble import VotingClassifier\n",
    "from sklearn.ensemble import BaggingClassifier\n",
    "from sklearn.ensemble import AdaBoostClassifier, RandomForestClassifier, ExtraTreesClassifier\n",
    "from sklearn.metrics import accuracy_score, mean_squared_error\n",
    "from sklearn.tree import DecisionTreeClassifier\n",
    "from sklearn.model_selection import train_test_split, KFold, cross_val_score\n",
    "from math import sqrt\n",
    "from sklearn.svm import SVC\n",
    "import time\n",
    "import tracemalloc\n",
    "import xgboost as xgb\n",
    "\n",
    "# get the start time\n",
    "st = time.time()\n",
    "tracemalloc.start()\n",
    "\n",
    "# Load the dataset\n",
    "df = pd.read_csv(\"restaurant.csv\")\n",
    "\n",
    "# Preprocess the text\n",
    "df['text'] = df['review'].apply(lambda x: x.lower().split())\n",
    "\n",
    "# Train the CBOW model\n",
    "model = Word2Vec(df['text'], size=100, window=10, min_count=1, sg=1)\n",
    "\n",
    "\n",
    "# Convert the text to numerical vectors using the CBOW model\n",
    "text_vectors = []\n",
    "for i in range(len(df)):\n",
    "    text_vectors.append(np.mean([model.wv[word] for word in df['text'][i]], axis=0))\n",
    "text_vectors = np.array(text_vectors)\n",
    "\n",
    "# Split the data into training and test sets\n",
    "X_train, X_test, y_train, y_test = train_test_split(text_vectors, df['label'], test_size=0.2, random_state=0)\n",
    "\n",
    "# Train multiple classifiers and use a voting ensemble\n",
    "LogReg_clf = LogisticRegression()\n",
    "SVC_clf = SVC(probability=True, kernel='rbf')\n",
    "DTree_clf = DecisionTreeClassifier()\n",
    "rf = RandomForestClassifier(random_state=1200, criterion='entropy', n_estimators=200)\n",
    "#ada = AdaBoostClassifier(n_estimators=200, learning_rate=2.0, algorithm='SAMME')\n",
    "ada = AdaBoostClassifier()\n",
    "ETree = ExtraTreesClassifier(random_state=42)\n",
    "\n",
    "\n",
    "ensemble = VotingClassifier(estimators=[('svm', SVC_clf), ('AdaBoost', ada), ('RF',rf )], voting='soft')\n",
    "ensemble.fit(X_train, y_train)\n",
    "\n",
    "# Predict the labels on the test set\n",
    "y_pred = ensemble.predict(X_test)\n",
    "\n",
    "# Evaluate the accuracy of the model\n",
    "acc = accuracy_score(y_test, y_pred)\n",
    "rms= sqrt(mean_squared_error(y_test, y_pred))\n",
    "\n",
    "print(\"Accuracy For Voting Ensemble SVM+AadBoost+RF is: \" + str(acc))\n",
    "print(\"RMSE Error is: \" + str(rms))\n",
    "\n",
    "\n",
    "# get the end time\n",
    "et = time.time()\n",
    "\n",
    "# get the execution time\n",
    "elapsed_time = et - st\n",
    "print('Execution time:', elapsed_time, 'seconds')\n",
    "\n",
    "current, peak = tracemalloc.get_traced_memory()\n",
    "# Stop tracemalloc\n",
    "tracemalloc.stop()\n",
    "print(\"Current memory usage is\", current / (1024 * 1024), \"MB; Peak was\", peak / (1024 * 1024), \"MB\")"
   ]
  },
  {
   "cell_type": "code",
   "execution_count": 5,
   "id": "ac754487",
   "metadata": {},
   "outputs": [
    {
     "name": "stdout",
     "output_type": "stream",
     "text": [
      "Accuracy for AdaBoost: 0.9360576923076923\n",
      "RMSE: 0.06394230769230769\n",
      "Execution time: 5.767467498779297 seconds\n",
      "Current memory usage is 0.055663108825683594 MB; Peak was 0.6820220947265625 MB\n"
     ]
    }
   ],
   "source": [
    "# Boosting Ensemble (Adaboost classifier)\n",
    "\n",
    "# get the start time\n",
    "st = time.time()\n",
    "tracemalloc.start()\n",
    "\n",
    "clf = AdaBoostClassifier()\n",
    "clf.fit(X_train, y_train)\n",
    "\n",
    "# make predictions on the testing set\n",
    "y_pred = clf.predict(X_test)\n",
    "\n",
    "# evaluate the model's performance using accuracy and RMSE\n",
    "accuracy = accuracy_score(y_test, y_pred)\n",
    "rmse = mean_squared_error(y_test, y_pred)\n",
    "\n",
    "print(\"Accuracy for AdaBoost:\", accuracy)\n",
    "print(\"RMSE:\", rmse)\n",
    "\n",
    "# get the end time\n",
    "et = time.time()\n",
    "\n",
    "# get the execution time\n",
    "elapsed_time = et - st\n",
    "print('Execution time:', elapsed_time, 'seconds')\n",
    "\n",
    "current, peak = tracemalloc.get_traced_memory()\n",
    "# Stop tracemalloc\n",
    "tracemalloc.stop()\n",
    "print(\"Current memory usage is\", current / (1024 * 1024), \"MB; Peak was\", peak / (1024 * 1024), \"MB\")"
   ]
  },
  {
   "cell_type": "code",
   "execution_count": 7,
   "id": "df83383c",
   "metadata": {},
   "outputs": [
    {
     "name": "stdout",
     "output_type": "stream",
     "text": [
      "Accuracy for XGBoost: 0.7788461538461539\n",
      "Execution time: 7.315021991729736 seconds\n",
      "Current memory usage is 0.024686813354492188 MB; Peak was 0.26821041107177734 MB\n"
     ]
    }
   ],
   "source": [
    "# Train XGBoost model\n",
    "# get the start time\n",
    "st = time.time()\n",
    "tracemalloc.start()\n",
    "\n",
    "\n",
    "model = xgb.XGBClassifier()\n",
    "model.fit(X_train, y_train)\n",
    "\n",
    "# Predict on test set and calculate accuracy\n",
    "y_pred = model.predict(y_test)\n",
    "acc = accuracy_score(y_test, y_pred)\n",
    "print('Accuracy for XGBoost:', acc)\n",
    "\n",
    "# get the end time\n",
    "et = time.time()\n",
    "\n",
    "# get the execution time\n",
    "elapsed_time = et - st\n",
    "print('Execution time:', elapsed_time, 'seconds')\n",
    "\n",
    "current, peak = tracemalloc.get_traced_memory()\n",
    "# Stop tracemalloc\n",
    "tracemalloc.stop()\n",
    "#print(f\"Current memory usage is {current / 10**6}MB; Peak was {peak / 10**6}MB\")\n",
    "print(\"Current memory usage is\", current / (1024 * 1024), \"MB; Peak was\", peak / (1024 * 1024), \"MB\")"
   ]
  },
  {
   "cell_type": "code",
   "execution_count": null,
   "id": "b04c0b7a",
   "metadata": {},
   "outputs": [],
   "source": []
  },
  {
   "cell_type": "code",
   "execution_count": null,
   "id": "1191eeab",
   "metadata": {},
   "outputs": [],
   "source": []
  },
  {
   "cell_type": "code",
   "execution_count": null,
   "id": "1dd97ce1",
   "metadata": {},
   "outputs": [],
   "source": []
  },
  {
   "cell_type": "code",
   "execution_count": null,
   "id": "121e652f",
   "metadata": {},
   "outputs": [],
   "source": []
  },
  {
   "cell_type": "code",
   "execution_count": 5,
   "id": "b5fad5b1",
   "metadata": {},
   "outputs": [
    {
     "name": "stdout",
     "output_type": "stream",
     "text": [
      "Accuracy For Voting Ensemble SVM+AadBoost+RF is: 0.9293269230769231\n",
      "RMSE Error is: 0.2658440838594625\n",
      "Execution time: 251.33450889587402 seconds\n",
      "Current memory usage is 0.0 MB; Peak was 0.0 MB\n"
     ]
    }
   ],
   "source": [
    "#Skip-Gram\n",
    "import pandas as pd\n",
    "import numpy as np\n",
    "from gensim.models import Word2Vec\n",
    "from sklearn.model_selection import train_test_split\n",
    "from sklearn.ensemble import VotingClassifier, RandomForestClassifier\n",
    "from sklearn.linear_model import LogisticRegression \n",
    "from sklearn.naive_bayes import GaussianNB\n",
    "from sklearn.metrics import accuracy_score\n",
    "\n",
    "\n",
    "# Load the dataset\n",
    "df = pd.read_csv('restaurant.csv')\n",
    "\n",
    "# Preprocess the text\n",
    "df['text'] = df['review'].apply(lambda x: x.lower().split())\n",
    "\n",
    "# Train a skip-gram word2vec model\n",
    "model = Word2Vec(df['text'], size=150, window=15, min_count=1, sg=0)\n",
    "\n",
    "# Extract features from the text using the skip-gram model\n",
    "text_vectors = []\n",
    "for i in range(len(df)):\n",
    "    text_vectors.append(np.mean([model.wv[word] for word in df['text'][i]], axis=0))\n",
    "\n",
    "# Split the data into train and test sets\n",
    "X_train, X_test, y_train, y_test = train_test_split(text_vectors, df[\"label\"], test_size=0.2, random_state=42)\n",
    "\n",
    "# Train multiple classifiers and use a voting ensemble\n",
    "LogReg_clf = LogisticRegression()\n",
    "SVC_clf = SVC(probability=True, kernel='rbf')\n",
    "DTree_clf = DecisionTreeClassifier()\n",
    "rf = RandomForestClassifier(random_state=1200, criterion='entropy', n_estimators=200)\n",
    "#ada = AdaBoostClassifier(n_estimators=200, learning_rate=2.0, algorithm='SAMME')\n",
    "ada = AdaBoostClassifier()\n",
    "ETree = ExtraTreesClassifier(random_state=42)\n",
    "\n",
    "\n",
    "ensemble = VotingClassifier(estimators=[('svm', SVC_clf), ('AdaBoost', ada), ('RF',rf )], voting='soft')\n",
    "ensemble.fit(X_train, y_train)\n",
    "\n",
    "# Predict the labels on the test set\n",
    "y_pred = ensemble.predict(X_test)\n",
    "\n",
    "# Evaluate the accuracy of the model\n",
    "acc = accuracy_score(y_test, y_pred)\n",
    "rms= sqrt(mean_squared_error(y_test, y_pred))\n",
    "\n",
    "print(\"Accuracy For Voting Ensemble SVM+AadBoost+RF is: \" + str(acc))\n",
    "print(\"RMSE Error is: \" + str(rms))\n",
    "\n",
    "\n",
    "# get the end time\n",
    "et = time.time()\n",
    "\n",
    "# get the execution time\n",
    "elapsed_time = et - st\n",
    "print('Execution time:', elapsed_time, 'seconds')\n",
    "\n",
    "current, peak = tracemalloc.get_traced_memory()\n",
    "# Stop tracemalloc\n",
    "tracemalloc.stop()\n",
    "print(\"Current memory usage is\", current / (1024 * 1024), \"MB; Peak was\", peak / (1024 * 1024), \"MB\")\n"
   ]
  },
  {
   "cell_type": "code",
   "execution_count": 9,
   "id": "6e209d86",
   "metadata": {},
   "outputs": [
    {
     "name": "stdout",
     "output_type": "stream",
     "text": [
      "Accuracy: 0.9100961538461538\n",
      "RMSE: 0.08990384615384615\n"
     ]
    }
   ],
   "source": [
    "# train the Adaboost classifier\n",
    "clf = AdaBoostClassifier()\n",
    "clf.fit(X_train, y_train)\n",
    "\n",
    "# make predictions on the testing set\n",
    "y_pred = clf.predict(X_test)\n",
    "\n",
    "# evaluate the model's performance using accuracy and RMSE\n",
    "accuracy = accuracy_score(y_test, y_pred)\n",
    "rmse = mean_squared_error(y_test, y_pred)\n",
    "\n",
    "print(\"Accuracy:\", accuracy)\n",
    "print(\"RMSE:\", rmse)"
   ]
  },
  {
   "cell_type": "code",
   "execution_count": 12,
   "id": "6a38b65a",
   "metadata": {},
   "outputs": [
    {
     "name": "stdout",
     "output_type": "stream",
     "text": [
      "Accuracy for XGBoost: 0.916826923076923\n",
      "Execution time: 6.85010027885437 seconds\n",
      "Current memory usage is 0.023090362548828125 MB; Peak was 3.432027816772461 MB\n"
     ]
    }
   ],
   "source": [
    "# Train XGBoost model\n",
    "# get the start time\n",
    "st = time.time()\n",
    "tracemalloc.start()\n",
    "\n",
    "\n",
    "model = xgb.XGBClassifier()\n",
    "model.fit(X_train, y_train)\n",
    "\n",
    "# Predict on test set and calculate accuracy\n",
    "y_pred = model.predict(X_test)\n",
    "acc = accuracy_score(y_test, y_pred)\n",
    "print('Accuracy for XGBoost:', acc)\n",
    "\n",
    "# get the end time\n",
    "et = time.time()\n",
    "\n",
    "# get the execution time\n",
    "elapsed_time = et - st\n",
    "print('Execution time:', elapsed_time, 'seconds')\n",
    "\n",
    "current, peak = tracemalloc.get_traced_memory()\n",
    "# Stop tracemalloc\n",
    "tracemalloc.stop()\n",
    "#print(f\"Current memory usage is {current / 10**6}MB; Peak was {peak / 10**6}MB\")\n",
    "print(\"Current memory usage is\", current / (1024 * 1024), \"MB; Peak was\", peak / (1024 * 1024), \"MB\")"
   ]
  }
 ],
 "metadata": {
  "kernelspec": {
   "display_name": "Python 3 (ipykernel)",
   "language": "python",
   "name": "python3"
  },
  "language_info": {
   "codemirror_mode": {
    "name": "ipython",
    "version": 3
   },
   "file_extension": ".py",
   "mimetype": "text/x-python",
   "name": "python",
   "nbconvert_exporter": "python",
   "pygments_lexer": "ipython3",
   "version": "3.8.10"
  }
 },
 "nbformat": 4,
 "nbformat_minor": 5
}
