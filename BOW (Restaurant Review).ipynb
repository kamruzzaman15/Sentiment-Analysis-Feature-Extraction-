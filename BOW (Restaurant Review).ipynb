{
 "cells": [
  {
   "cell_type": "code",
   "execution_count": 1,
   "id": "b37fa726",
   "metadata": {},
   "outputs": [],
   "source": [
    "import pandas as pd\n",
    "import numpy as np\n",
    "from sklearn.pipeline import Pipeline\n",
    "from sklearn.feature_extraction.text import CountVectorizer\n",
    "from sklearn.naive_bayes import MultinomialNB,GaussianNB,BernoulliNB\n",
    "from sklearn.feature_extraction.text import TfidfTransformer\n",
    "from sklearn.svm import LinearSVC\n",
    "from sklearn.feature_extraction.text import TfidfVectorizer\n",
    "from sklearn.ensemble import RandomForestClassifier\n",
    "from sklearn.linear_model import LogisticRegression\n",
    "from sklearn.metrics import classification_report, confusion_matrix\n",
    "from sklearn.metrics import accuracy_score\n",
    "from sklearn import metrics\n",
    "from sklearn.ensemble import VotingClassifier\n",
    "from sklearn.ensemble import BaggingClassifier\n",
    "from sklearn.ensemble import AdaBoostClassifier, RandomForestClassifier, ExtraTreesClassifier\n",
    "from sklearn.metrics import accuracy_score, mean_squared_error\n",
    "from sklearn.tree import DecisionTreeClassifier\n",
    "from sklearn.model_selection import train_test_split, KFold, cross_val_score\n",
    "from math import sqrt\n",
    "from sklearn.svm import SVC\n",
    "import time\n",
    "import tracemalloc\n",
    "import xgboost as xgb"
   ]
  },
  {
   "cell_type": "code",
   "execution_count": 2,
   "id": "936b19f9",
   "metadata": {},
   "outputs": [],
   "source": [
    "df=pd.read_csv('restaurant.csv')"
   ]
  },
  {
   "cell_type": "code",
   "execution_count": 3,
   "id": "08fd162b",
   "metadata": {},
   "outputs": [],
   "source": [
    "cv = CountVectorizer()\n",
    "cv.fit(df['review'])\n",
    "X = cv.transform(df['review'])"
   ]
  },
  {
   "cell_type": "code",
   "execution_count": 4,
   "id": "22b1678f",
   "metadata": {},
   "outputs": [],
   "source": [
    "LogReg_clf = LogisticRegression()\n",
    "SVC_clf = SVC(probability=True, kernel='rbf')\n",
    "NV=MultinomialNB()\n",
    "NK=BernoulliNB()\n",
    "DTree_clf = DecisionTreeClassifier()\n",
    "svm=LinearSVC()\n",
    "rf = RandomForestClassifier(random_state=1200, criterion='entropy', n_estimators=200)\n",
    "#ada = AdaBoostClassifier(n_estimators=200, learning_rate=2.0, algorithm='SAMME')\n",
    "ada = AdaBoostClassifier()\n",
    "ETree = ExtraTreesClassifier(random_state=42)"
   ]
  },
  {
   "cell_type": "code",
   "execution_count": 5,
   "id": "b5b31c5d",
   "metadata": {},
   "outputs": [],
   "source": [
    "msg_train, msg_test, label_train, label_test =train_test_split(X, df['label'], test_size=0.2,random_state=42)"
   ]
  },
  {
   "cell_type": "code",
   "execution_count": 10,
   "id": "2589f0b0",
   "metadata": {},
   "outputs": [
    {
     "name": "stdout",
     "output_type": "stream",
     "text": [
      "Accuracy For DTree Model is: 0.9509615384615384\n",
      "RMSE Error is: 0.2214462949305351\n",
      "Execution time: 19.85596990585327 seconds\n",
      "Current memory usage is 11.829256057739258 MB; Peak was 13.701107025146484 MB\n"
     ]
    }
   ],
   "source": [
    "# get the start time\n",
    "st = time.time()\n",
    "tracemalloc.start()\n",
    "\n",
    "\n",
    "rf.fit(msg_train,label_train)\n",
    "preds= rf.predict(msg_test)\n",
    "acc = accuracy_score(label_test, preds)\n",
    "print(\"Accuracy For DTree Model is: \" + str(acc))\n",
    "rms= sqrt(mean_squared_error(label_test, preds))\n",
    "print(\"RMSE Error is: \" + str(rms))\n",
    "\n",
    "\n",
    "# get the end time\n",
    "et = time.time()\n",
    "\n",
    "# get the execution time\n",
    "elapsed_time = et - st\n",
    "print('Execution time:', elapsed_time, 'seconds')\n",
    "\n",
    "current, peak = tracemalloc.get_traced_memory()\n",
    "# Stop tracemalloc\n",
    "tracemalloc.stop()\n",
    "#print(f\"Current memory usage is {current / 10**6}MB; Peak was {peak / 10**6}MB\")\n",
    "print(\"Current memory usage is\", current / (1024 * 1024), \"MB; Peak was\", peak / (1024 * 1024), \"MB\")"
   ]
  },
  {
   "cell_type": "code",
   "execution_count": 11,
   "id": "f38d77e3",
   "metadata": {},
   "outputs": [
    {
     "name": "stdout",
     "output_type": "stream",
     "text": [
      "Accuracy For Voting Ensemble SVM+AadBoost+RF is: 0.95625\n",
      "RMSE Error is: 0.2091650066335189\n",
      "Execution time: 44.53401780128479 seconds\n",
      "Current memory usage is 0.9448156356811523 MB; Peak was 6.826879501342773 MB\n"
     ]
    }
   ],
   "source": [
    "#Voting Ensemble Method\n",
    "# get the start time\n",
    "st = time.time()\n",
    "tracemalloc.start()\n",
    "\n",
    "\n",
    "\n",
    "#voting_clf = VotingClassifier(estimators=[('LR',model),('NV', ada)], voting='hard')\n",
    "voting_clf = VotingClassifier(estimators=[('svm', SVC_clf), ('AdaBoost', ada), ('RF',rf )], voting='soft')\n",
    "voting_clf.fit(msg_train, label_train)\n",
    "preds = voting_clf.predict(msg_test)\n",
    "\n",
    "acc = accuracy_score(label_test, preds)\n",
    "rms= sqrt(mean_squared_error(label_test, preds))\n",
    "\n",
    "\n",
    "print(\"Accuracy For Voting Ensemble SVM+AadBoost+RF is: \" + str(acc))\n",
    "print(\"RMSE Error is: \" + str(rms))\n",
    "\n",
    "\n",
    "# get the end time\n",
    "et = time.time()\n",
    "\n",
    "# get the execution time\n",
    "elapsed_time = et - st\n",
    "print('Execution time:', elapsed_time, 'seconds')\n",
    "\n",
    "current, peak = tracemalloc.get_traced_memory()\n",
    "# Stop tracemalloc\n",
    "tracemalloc.stop()\n",
    "print(\"Current memory usage is\", current / (1024 * 1024), \"MB; Peak was\", peak / (1024 * 1024), \"MB\")"
   ]
  },
  {
   "cell_type": "code",
   "execution_count": 12,
   "id": "9840c2d3",
   "metadata": {},
   "outputs": [
    {
     "name": "stdout",
     "output_type": "stream",
     "text": [
      "Accuracy for AdaBoost: 0.9355769230769231\n",
      "RMSE: 0.06442307692307692\n",
      "Execution time: 3.38315749168396 seconds\n",
      "Current memory usage is 0.054737091064453125 MB; Peak was 1.9935922622680664 MB\n"
     ]
    }
   ],
   "source": [
    "# Boosting Ensemble (Adaboost classifier)\n",
    "\n",
    "# get the start time\n",
    "st = time.time()\n",
    "tracemalloc.start()\n",
    "\n",
    "clf = AdaBoostClassifier()\n",
    "clf.fit(msg_train, label_train)\n",
    "\n",
    "# make predictions on the testing set\n",
    "y_pred = clf.predict(msg_test)\n",
    "\n",
    "# evaluate the model's performance using accuracy and RMSE\n",
    "accuracy = accuracy_score(label_test, y_pred)\n",
    "rmse = mean_squared_error(label_test, y_pred)\n",
    "\n",
    "print(\"Accuracy for AdaBoost:\", accuracy)\n",
    "print(\"RMSE:\", rmse)\n",
    "\n",
    "# get the end time\n",
    "et = time.time()\n",
    "\n",
    "# get the execution time\n",
    "elapsed_time = et - st\n",
    "print('Execution time:', elapsed_time, 'seconds')\n",
    "\n",
    "current, peak = tracemalloc.get_traced_memory()\n",
    "# Stop tracemalloc\n",
    "tracemalloc.stop()\n",
    "print(\"Current memory usage is\", current / (1024 * 1024), \"MB; Peak was\", peak / (1024 * 1024), \"MB\")"
   ]
  },
  {
   "cell_type": "code",
   "execution_count": 13,
   "id": "2cf4d769",
   "metadata": {},
   "outputs": [
    {
     "name": "stdout",
     "output_type": "stream",
     "text": [
      "Accuracy for XGBoost: 0.9514423076923076\n",
      "Execution time: 0.4694514274597168 seconds\n",
      "Current memory usage is 0.1057443618774414 MB; Peak was 0.17767333984375 MB\n"
     ]
    }
   ],
   "source": [
    "# Train XGBoost model\n",
    "# get the start time\n",
    "st = time.time()\n",
    "tracemalloc.start()\n",
    "\n",
    "\n",
    "model = xgb.XGBClassifier(n_estimators=70, learning_rate=0.9)\n",
    "model.fit(msg_train, label_train)\n",
    "\n",
    "# Predict on test set and calculate accuracy\n",
    "y_pred = model.predict(msg_test)\n",
    "acc = accuracy_score(label_test, y_pred)\n",
    "print('Accuracy for XGBoost:', acc)\n",
    "\n",
    "# get the end time\n",
    "et = time.time()\n",
    "\n",
    "# get the execution time\n",
    "elapsed_time = et - st\n",
    "print('Execution time:', elapsed_time, 'seconds')\n",
    "\n",
    "current, peak = tracemalloc.get_traced_memory()\n",
    "# Stop tracemalloc\n",
    "tracemalloc.stop()\n",
    "#print(f\"Current memory usage is {current / 10**6}MB; Peak was {peak / 10**6}MB\")\n",
    "print(\"Current memory usage is\", current / (1024 * 1024), \"MB; Peak was\", peak / (1024 * 1024), \"MB\")"
   ]
  },
  {
   "cell_type": "code",
   "execution_count": null,
   "id": "7d9134d5",
   "metadata": {},
   "outputs": [],
   "source": []
  },
  {
   "cell_type": "code",
   "execution_count": null,
   "id": "3b896815",
   "metadata": {},
   "outputs": [],
   "source": []
  }
 ],
 "metadata": {
  "kernelspec": {
   "display_name": "Python 3 (ipykernel)",
   "language": "python",
   "name": "python3"
  },
  "language_info": {
   "codemirror_mode": {
    "name": "ipython",
    "version": 3
   },
   "file_extension": ".py",
   "mimetype": "text/x-python",
   "name": "python",
   "nbconvert_exporter": "python",
   "pygments_lexer": "ipython3",
   "version": "3.8.10"
  }
 },
 "nbformat": 4,
 "nbformat_minor": 5
}
